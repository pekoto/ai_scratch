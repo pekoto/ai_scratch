{
 "cells": [
  {
   "cell_type": "markdown",
   "id": "a21a42e6-18ac-4152-9a71-7b4161d90d65",
   "metadata": {},
   "source": [
    "### Gemini Examples\n",
    "\n",
    "A list of Gemini code samples and code labs.\n",
    "\n",
    "## Gemini Cookbook\n",
    "\n",
    "* [Agents and automatic function calling](https://github.com/google-gemini/cookbook/blob/main/examples/Agents_Function_Calling_Barista_Bot.ipynb)\n",
    "  * Connect a regular API to a chat bot\n",
    "* [Prompting with text transcript](https://github.com/google-gemini/cookbook/blob/main/examples/Apollo_11.ipynb)\n",
    "  * Shows how to prompt for information in a text file\n",
    "* [Classify text with embeddings](https://github.com/google-gemini/cookbook/blob/main/examples/Classify_text_with_embeddings.ipynb)\n",
    "* [Create ad copy/website based on image](https://github.com/google-gemini/cookbook/blob/main/examples/Market_a_Jet_Backpack.ipynb)\n",
    "* [Draw bounding boxes to detect objects in an image](https://github.com/google-gemini/cookbook/blob/main/examples/Object_detection.ipynb)\n",
    "* [Webpage code generation](https://github.com/google-gemini/cookbook/blob/main/examples/Opossum_search.ipynb)\n",
    "* [ReAct Prompting](https://github.com/google-gemini/cookbook/blob/main/examples/Search_Wikipedia_using_ReAct.ipynb)\n",
    "  * Prompting using Reasoning and Action prompting (Thought>Action>Observation)\n",
    "* [Wikipedia Search / Reranking](https://github.com/google-gemini/cookbook/blob/main/examples/Search_reranking_using_embeddings.ipynb)\n",
    "  * Searches Wikipedia for answers, and ranks search results, and provides a citation\n",
    "* [Prompt Chaining + Iterative Generation](https://github.com/google-gemini/cookbook/blob/main/examples/Story_Writing_with_Prompt_Chaining.ipynb)\n",
    "  * Shows how to feed the output of one prompt into another, to iteratively generate content\n",
    "* [Tag & Caption Images](https://github.com/google-gemini/cookbook/blob/main/examples/Tag_and_caption_images.ipynb)\n",
    "* [Talk to Documents Using Embeddings](https://github.com/google-gemini/cookbook/blob/main/examples/Talk_to_documents_with_embeddings.ipynb)\n",
    "* [Prompt PDF / Audio Files](https://github.com/google-gemini/cookbook/blob/main/examples/Voice_memos.ipynb)\n",
    "* [Extract Structured JSON Entities from Text](https://github.com/google-gemini/cookbook/blob/main/examples/json_capabilities/Entity_Extraction_JSON.ipynb)\n",
    "* [Sentiment Analysis](https://github.com/google-gemini/cookbook/blob/main/examples/json_capabilities/Sentiment_Analysis.ipynb)\n",
    "* [Text Summarization](https://github.com/google-gemini/cookbook/blob/main/examples/json_capabilities/Text_Summarization.ipynb)\n",
    "* [Talking to SQL DB with LangChain](https://github.com/google-gemini/cookbook/blob/main/examples/langchain/Chat_with_SQL_using_langchain.ipynb)\n",
    "* [Answering Questions with LangChain + Chroma (RAG)](https://github.com/google-gemini/cookbook/blob/main/examples/langchain/Gemini_LangChain_QA_Chroma_WebLoad.ipynb)\n",
    "* [Summarize Documents with LangChain](https://github.com/google-gemini/cookbook/blob/main/examples/langchain/Gemini_LangChain_Summarization_WebLoad.ipynb)\n",
    "* [Read and summarize a PDF](https://github.com/google-gemini/cookbook/blob/main/quickstarts/PDF_Files.ipynb)\n",
    "* [Awesome Gemini: Solve visual math problems, image labelling and description, playing video games](https://github.com/google-gemini/cookbook/blob/main/Awesome_gemini.md)\n",
    "* [Gemini UI to code](https://github.com/Doriandarko/gemini-ui-to-code)\n",
    "\n"
   ]
  },
  {
   "cell_type": "code",
   "execution_count": null,
   "id": "b017d801-4e30-4c3a-9224-c449d60f831a",
   "metadata": {},
   "outputs": [],
   "source": []
  }
 ],
 "metadata": {
  "kernelspec": {
   "display_name": "Python 3 (ipykernel)",
   "language": "python",
   "name": "python3"
  },
  "language_info": {
   "codemirror_mode": {
    "name": "ipython",
    "version": 3
   },
   "file_extension": ".py",
   "mimetype": "text/x-python",
   "name": "python",
   "nbconvert_exporter": "python",
   "pygments_lexer": "ipython3",
   "version": "3.10.7"
  }
 },
 "nbformat": 4,
 "nbformat_minor": 5
}

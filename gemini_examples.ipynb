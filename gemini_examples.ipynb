{
 "cells": [
  {
   "cell_type": "markdown",
   "id": "a21a42e6-18ac-4152-9a71-7b4161d90d65",
   "metadata": {},
   "source": [
    "# Gemini Examples\n",
    "\n",
    "A list of Gemini code samples and codelabs."
   ]
  },
  {
   "cell_type": "markdown",
   "id": "5e917a35-432a-4363-b1d3-7b320efe0459",
   "metadata": {},
   "source": [
    "## [Gemini Cookbook](https://github.com/google-gemini/cookbook/tree/main)\n",
    "\n",
    "* [Agents and automatic function calling](https://github.com/google-gemini/cookbook/blob/main/examples/Agents_Function_Calling_Barista_Bot.ipynb)\n",
    "  * Connect a regular API to a chat bot\n",
    "* [Prompting with text transcript](https://github.com/google-gemini/cookbook/blob/main/examples/Apollo_11.ipynb)\n",
    "  * Shows how to prompt for information in a text file\n",
    "* [Classify text with embeddings](https://github.com/google-gemini/cookbook/blob/main/examples/Classify_text_with_embeddings.ipynb)\n",
    "* [Create ad copy/website based on image](https://github.com/google-gemini/cookbook/blob/main/examples/Market_a_Jet_Backpack.ipynb)\n",
    "* [Draw bounding boxes to detect objects in an image](https://github.com/google-gemini/cookbook/blob/main/examples/Object_detection.ipynb)\n",
    "* [Webpage code generation](https://github.com/google-gemini/cookbook/blob/main/examples/Opossum_search.ipynb)\n",
    "* [ReAct Prompting](https://github.com/google-gemini/cookbook/blob/main/examples/Search_Wikipedia_using_ReAct.ipynb)\n",
    "  * Prompting using Reasoning and Action prompting (Thought>Action>Observation)\n",
    "* [Wikipedia Search / Reranking](https://github.com/google-gemini/cookbook/blob/main/examples/Search_reranking_using_embeddings.ipynb)\n",
    "  * Searches Wikipedia for answers, and ranks search results, and provides a citation\n",
    "* [Prompt Chaining + Iterative Generation](https://github.com/google-gemini/cookbook/blob/main/examples/Story_Writing_with_Prompt_Chaining.ipynb)\n",
    "  * Shows how to feed the output of one prompt into another, to iteratively generate content\n",
    "* [Tag & Caption Images](https://github.com/google-gemini/cookbook/blob/main/examples/Tag_and_caption_images.ipynb)\n",
    "* [Talk to Documents Using Embeddings](https://github.com/google-gemini/cookbook/blob/main/examples/Talk_to_documents_with_embeddings.ipynb)\n",
    "* [Prompt PDF / Audio Files](https://github.com/google-gemini/cookbook/blob/main/examples/Voice_memos.ipynb)\n",
    "* [Extract Structured JSON Entities from Text](https://github.com/google-gemini/cookbook/blob/main/examples/json_capabilities/Entity_Extraction_JSON.ipynb)\n",
    "* [Sentiment Analysis](https://github.com/google-gemini/cookbook/blob/main/examples/json_capabilities/Sentiment_Analysis.ipynb)\n",
    "* [Text Summarization](https://github.com/google-gemini/cookbook/blob/main/examples/json_capabilities/Text_Summarization.ipynb)\n",
    "* [Talking to SQL DB with LangChain](https://github.com/google-gemini/cookbook/blob/main/examples/langchain/Chat_with_SQL_using_langchain.ipynb)\n",
    "* [Answering Questions with LangChain + Chroma (RAG)](https://github.com/google-gemini/cookbook/blob/main/examples/langchain/Gemini_LangChain_QA_Chroma_WebLoad.ipynb)\n",
    "* [Summarize Documents with LangChain](https://github.com/google-gemini/cookbook/blob/main/examples/langchain/Gemini_LangChain_Summarization_WebLoad.ipynb)\n",
    "* [Read and summarize a PDF](https://github.com/google-gemini/cookbook/blob/main/quickstarts/PDF_Files.ipynb)\n",
    "* [Awesome Gemini: Solve visual math problems, image labelling and description, playing video games](https://github.com/google-gemini/cookbook/blob/main/Awesome_gemini.md)\n",
    "* [Gemini UI to code](https://github.com/Doriandarko/gemini-ui-to-code)\n",
    "\n"
   ]
  },
  {
   "cell_type": "markdown",
   "id": "68a0d72b-d2ea-481a-905e-d54d87bec579",
   "metadata": {},
   "source": [
    "## [Prompt Gallery](https://ai.google.dev/gemini-api/prompts)\n",
    "\n",
    "* Transcribe audio with speaker details and timestamps\n",
    "* Ask questions about a video\n",
    "* Convert image to a list of recipes in JSON format\n",
    "* Math tutor / Math worksheet generator / Solve math problem\n",
    "* Generate Python unit tests\n",
    "* Trip planner: Convert trip recommendation text to structured schedule in a table\n",
    "* Describe the object in an image\n",
    "* Create marketing copy\n",
    "* Create a blog post\n",
    "* Sentiment analysis\n",
    "* Create Docker script\n",
    "* Capture handwriting\n",
    "* Extract brand / product names from text\n",
    "* Change text tone\n",
    "* Create Regex from description"
   ]
  },
  {
   "cell_type": "markdown",
   "id": "8fe03f5d-b56a-4457-bfbc-984402e49e57",
   "metadata": {},
   "source": [
    "## [Codelabs](https://codelabs.developers.google.com/?category=aiandmachinelearning)\n",
    "\n",
    "* [Chat Apps With Gemini, Vertex AI + Dialogflow CX](https://codelabs.developers.google.com/codelabs/chat-apps-gemini?hl=en#0) (1hr)\n",
    "  * Building on top of Google Chat\n",
    "  * Issue management app\n",
    "  * Knowledge app (understand and answer questions in natural language and to return source references from unstructured data)\n",
    "  * Feedback app (collect and store reviews with conversations in natural language)\n",
    "* [Function calling with Gemini](https://codelabs.developers.google.com/codelabs/gemini-function-calling?hl=en#10) (8m)\n",
    "* [RAG search engine with Vertex AI](https://codelabs.developers.google.com/build-google-quality-rag?hl=en#0) = \n",
    "* [LLM and RAG-based chat application](https://codelabs.developers.google.com/codelabs/genai-db-retrieval-app?hl=en#4) (92m)\n",
    "* [Automate Google Workspace tasks (setup meeting, draft email, create deck)](https://codelabs.developers.google.com/codelabs/gemini-workspace?hl=en#1) (58m)\n",
    "* [Book recommendation and summarization app using Vertex AI](https://codelabs.developers.google.com/bookshelf-duetai-bigquery?hl=en#0) \n",
    "* [Similarity Search with Vector Search -- search by description to find products](https://codelabs.developers.google.com/codelabs/similary-search-spanner-vertex?hl=en#0)\n",
    "* [Analyze and summarize YouTube videos](https://codelabs.developers.google.com/youtube-analytics-palm-llm?hl=en#0)\n",
    "* [Chat App on Cloud Run](https://codelabs.developers.google.com/llm-chat-app-flask?hl=en#3)\n",
    "* [Predict Movie Success](https://codelabs.developers.google.com/generative-insights-sqlonly?hl=en#0)\n",
    "  * [Similar, with AutoML](https://codelabs.developers.google.com/moviescore-prediction-vertexai?hl=en#0)\n",
    "  * [Similar with BQML](https://codelabs.developers.google.com/moviescore-prediction-bqmlsql?hl=en#0)\n",
    "* [Recognize and Translate Text on Android](https://developer.android.com/codelabs/mlkit-android-translate?hl=en#0)\n",
    "* [NPL API: Sentiment Analysis, Entity Analysis, Syntax Analysis, Content Classification, Text Moderation](https://codelabs.developers.google.com/codelabs/cloud-natural-language-python3?hl=en#0)\n",
    "* [Document OCR](https://codelabs.developers.google.com/codelabs/docai-ocr-python?hl=en#0)\n",
    "* [Form Parsing with Document AI](https://codelabs.developers.google.com/codelabs/docai-form-parser-v1-python?hl=en#0)\n",
    "* [Video Intelligence API (Detect labels, shot changes, explicit content, transcribe speech, detect and track text, detect and track objects, detect and track logos)](https://codelabs.developers.google.com/codelabs/cloud-video-intelligence-python3?hl=en#0)\n",
    "* [Vision API: Label detection, text detection, landmark detection, face detection, object detection](https://codelabs.developers.google.com/codelabs/cloud-vision-api-python?hl=en#0)"
   ]
  },
  {
   "cell_type": "code",
   "execution_count": null,
   "id": "dd79f1f9-01ba-4f49-bf98-88fbd9887e82",
   "metadata": {},
   "outputs": [],
   "source": []
  }
 ],
 "metadata": {
  "kernelspec": {
   "display_name": "Python 3 (ipykernel)",
   "language": "python",
   "name": "python3"
  },
  "language_info": {
   "codemirror_mode": {
    "name": "ipython",
    "version": 3
   },
   "file_extension": ".py",
   "mimetype": "text/x-python",
   "name": "python",
   "nbconvert_exporter": "python",
   "pygments_lexer": "ipython3",
   "version": "3.10.7"
  }
 },
 "nbformat": 4,
 "nbformat_minor": 5
}
